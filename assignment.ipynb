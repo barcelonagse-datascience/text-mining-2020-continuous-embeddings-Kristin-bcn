{
 "cells": [
  {
   "cell_type": "markdown",
   "metadata": {},
   "source": [
    "# Assignment 3: Word2Vec\n",
    "\n",
    "In this assignment, we will see how we can use Word2Vec (or any similar word embedding) to use information from unlabelled data to help us classify better!\n",
    "\n",
    "You will be using the sentiment data from last week, either the yelps or movies, whichever you wish. \n",
    "\n",
    "Your goal will be to simulate the following situation: you have a **small** set of labelled data and a large set of unlabelled data. Show how the two follow 2 techniques compare as the amount of labelled data increases. You should train them on the small labelled subset and test their performance on the rest of the data. \n",
    "\n",
    "In other words, train on 1k, test on 99k. Then train on 2k, test on 98k. Then train on 4k, test on 96k. Etc.\n",
    "\n",
    "1. Logistic regression trained on labelled data, documents represented as term-frequency matrix of your choice. You can learn the vocabulary from the entire dataset or only the labelled data.\n",
    "\n",
    "2. Logistic regression trained on the labelled data, documents represented as word2vec vectors where you train word2vec using the entire dataset. Play around with different settings of word2vec (training window size, K-negative, skip-gram vs BOW, training windows, etc.). Note: we didn't go over the options in detail in class, so you will need to read about them a bit!\n",
    "\n",
    "You can read about the gensime word2vec implementation [here](https://radimrehurek.com/gensim/models/word2vec.html)."
   ]
  },
  {
   "cell_type": "code",
   "execution_count": 4,
   "metadata": {},
   "outputs": [],
   "source": [
    "#Import packages\n",
    "import re\n",
    "import spacy\n",
    "import seaborn as sns\n",
    "import pandas as pd\n",
    "import numpy as np\n",
    "from nltk.stem.snowball import SnowballStemmer\n",
    "from sklearn.feature_extraction.text import CountVectorizer, TfidfVectorizer\n",
    "from sklearn.model_selection import cross_val_score, train_test_split\n",
    "from sklearn.naive_bayes import MultinomialNB\n",
    "from sklearn.linear_model import LogisticRegression\n",
    "\n",
    "from gensim.test.utils import common_texts, get_tmpfile\n",
    "from gensim.models import Word2Vec\n",
    "\n",
    "import matplotlib.pyplot as plt\n",
    "\n",
    "import cython\n",
    "\n",
    "from gensim.test.utils import common_texts\n",
    "from nltk.corpus import stopwords\n",
    "from nltk.stem import WordNetLemmatizer"
   ]
  },
  {
   "cell_type": "code",
   "execution_count": 27,
   "metadata": {},
   "outputs": [
    {
     "data": {
      "text/plain": [
       "100003"
      ]
     },
     "execution_count": 27,
     "metadata": {},
     "output_type": "execute_result"
    }
   ],
   "source": [
    "# Read data\n",
    "yelps = pd.read_csv('sentiment/yelps.csv')\n",
    "len(yelps)"
   ]
  },
  {
   "cell_type": "markdown",
   "metadata": {},
   "source": [
    "## Technique 1: Logistic Regression using Term-Frequency Matrix"
   ]
  },
  {
   "cell_type": "code",
   "execution_count": 25,
   "metadata": {},
   "outputs": [],
   "source": [
    "# Pre-process data and fit Logistic Regression model\n",
    "vectorizer = TfidfVectorizer(min_df=20, \n",
    "                             max_df=.6, \n",
    "                             use_idf=True, \n",
    "                             stop_words='english')\n"
   ]
  },
  {
   "cell_type": "markdown",
   "metadata": {},
   "source": [
    "### A: Learn words from full dataset"
   ]
  },
  {
   "cell_type": "code",
   "execution_count": 28,
   "metadata": {},
   "outputs": [
    {
     "name": "stderr",
     "output_type": "stream",
     "text": [
      "/Users/kristin.lomicka/anaconda3/lib/python3.7/site-packages/sklearn/linear_model/logistic.py:432: FutureWarning: Default solver will be changed to 'lbfgs' in 0.22. Specify a solver to silence this warning.\n",
      "  FutureWarning)\n"
     ]
    }
   ],
   "source": [
    "# Pre-process data - vocabulary will be learned from the full dataset\n",
    "V = vectorizer.fit_transform(yelps.text)\n",
    "words_V = vectorizer.get_feature_names()\n",
    "y = yelps.positive\n",
    "\n",
    "# Define model\n",
    "model_LR = LogisticRegression()\n",
    "\n",
    "# Run model for different versions of train-test split\n",
    "split = (.01, .02, .03, .04, .05, .1)\n",
    "\n",
    "scores1 = []\n",
    "for s in split:\n",
    "    V_train, V_test, y_train, y_test = train_test_split(V, y, train_size=s, random_state=100)\n",
    "    model_LR.fit(V_train, y_train)\n",
    "    y_pred = model_LR.predict(V_test)\n",
    "    score_LR = model_LR.score(V_test,y_test)\n",
    "    scores1.append(score_LR)"
   ]
  },
  {
   "cell_type": "markdown",
   "metadata": {},
   "source": [
    "### B: Learn words from training data only"
   ]
  },
  {
   "cell_type": "code",
   "execution_count": 29,
   "metadata": {},
   "outputs": [
    {
     "name": "stderr",
     "output_type": "stream",
     "text": [
      "/Users/kristin.lomicka/anaconda3/lib/python3.7/site-packages/sklearn/linear_model/logistic.py:432: FutureWarning: Default solver will be changed to 'lbfgs' in 0.22. Specify a solver to silence this warning.\n",
      "  FutureWarning)\n",
      "/Users/kristin.lomicka/anaconda3/lib/python3.7/site-packages/sklearn/linear_model/logistic.py:432: FutureWarning: Default solver will be changed to 'lbfgs' in 0.22. Specify a solver to silence this warning.\n",
      "  FutureWarning)\n",
      "/Users/kristin.lomicka/anaconda3/lib/python3.7/site-packages/sklearn/linear_model/logistic.py:432: FutureWarning: Default solver will be changed to 'lbfgs' in 0.22. Specify a solver to silence this warning.\n",
      "  FutureWarning)\n",
      "/Users/kristin.lomicka/anaconda3/lib/python3.7/site-packages/sklearn/linear_model/logistic.py:432: FutureWarning: Default solver will be changed to 'lbfgs' in 0.22. Specify a solver to silence this warning.\n",
      "  FutureWarning)\n",
      "/Users/kristin.lomicka/anaconda3/lib/python3.7/site-packages/sklearn/linear_model/logistic.py:432: FutureWarning: Default solver will be changed to 'lbfgs' in 0.22. Specify a solver to silence this warning.\n",
      "  FutureWarning)\n",
      "/Users/kristin.lomicka/anaconda3/lib/python3.7/site-packages/sklearn/linear_model/logistic.py:432: FutureWarning: Default solver will be changed to 'lbfgs' in 0.22. Specify a solver to silence this warning.\n",
      "  FutureWarning)\n"
     ]
    }
   ],
   "source": [
    "# Vocabulary only learned from the training set\n",
    "# Pre-process data - vocabulary will be learned from the full dataset\n",
    "V = yelps.text\n",
    "y = yelps.positive\n",
    "\n",
    "# Define model\n",
    "model_LR = LogisticRegression()\n",
    "\n",
    "# Run model for different versions of train-test split\n",
    "split = (.01, .02, .03, .04, .05, .1)\n",
    "\n",
    "scores2 = []\n",
    "for s in split:\n",
    "    V_train, V_test, y_train, y_test = train_test_split(V, y, train_size=s, random_state=100)\n",
    "    V_train = vectorizer.fit_transform(V_train)\n",
    "    V_test = vectorizer.transform(V_test)\n",
    "    model_LR.fit(V_train, y_train)\n",
    "    y_pred = model_LR.predict(V_test)\n",
    "    score_LR = model_LR.score(V_test,y_test)\n",
    "    scores2.append(score_LR)"
   ]
  },
  {
   "cell_type": "markdown",
   "metadata": {},
   "source": [
    "## Technique 2: Word2Vec"
   ]
  },
  {
   "cell_type": "code",
   "execution_count": 6,
   "metadata": {},
   "outputs": [],
   "source": [
    "def data_prep(docs):\n",
    "    stop_words = set(stopwords.words('english'))\n",
    "    lemmatizer = WordNetLemmatizer()\n",
    "    documents = []\n",
    "    # Prepare data\n",
    "    for d in docs:\n",
    "        document = d.lower()\n",
    "        document = re.sub(\"[.,?]\",\"\", document)\n",
    "        document = re.sub('\"', \"\", document)\n",
    "        document = document.split()\n",
    "        document = [word for word in document if word not in stop_words]\n",
    "        document = [lemmatizer.lemmatize(word) for word in document]\n",
    "        documents.append(document)\n",
    "    return(documents)"
   ]
  },
  {
   "cell_type": "code",
   "execution_count": 7,
   "metadata": {},
   "outputs": [],
   "source": [
    "# preprocess documents\n",
    "docs = data_prep(yelps.text)"
   ]
  },
  {
   "cell_type": "code",
   "execution_count": 41,
   "metadata": {},
   "outputs": [],
   "source": [
    "# create word to vec word list\n",
    "#w2v = Word2Vec(docs, size=100, min_count=1, workers=4)\n",
    "#w2v2 = Word2Vec(docs, size=100, min_count=1, sg = 1, workers=4)\n",
    "w2v3 = Word2Vec(docs, size=100, min_count=1, window = 8, workers=4)"
   ]
  },
  {
   "cell_type": "code",
   "execution_count": 42,
   "metadata": {},
   "outputs": [],
   "source": [
    "wordlist = w2v3.wv\n",
    "# use the word to vec word list to embed the documents\n",
    "def embed_words(docs):\n",
    "    embedded = []\n",
    "    for doc in docs:\n",
    "        d = np.zeros((len(doc),100), dtype = float)\n",
    "        for idx, word in enumerate(doc):\n",
    "            try:\n",
    "                d[idx] = wordlist[word]\n",
    "            except Exception:\n",
    "                d[idx] = .01\n",
    "        d_flat = np.average(d, axis = 0)\n",
    "        embedded.append(d_flat)\n",
    "        \n",
    "    #identify and remove NaNs\n",
    "    indices = []\n",
    "    for idx,v in enumerate(embedded):\n",
    "        array_sum = np.sum(v)\n",
    "        array_has_nan = np.isnan(array_sum)\n",
    "        if array_has_nan == True:\n",
    "            indices.append(idx)\n",
    "    docs_embedded = np.delete(embedded, indices, axis = 0)\n",
    "    return(docs_embedded, indices)"
   ]
  },
  {
   "cell_type": "code",
   "execution_count": 43,
   "metadata": {
    "scrolled": true
   },
   "outputs": [
    {
     "name": "stderr",
     "output_type": "stream",
     "text": [
      "/Users/kristin.lomicka/anaconda3/lib/python3.7/site-packages/numpy/lib/function_base.py:392: RuntimeWarning: Mean of empty slice.\n",
      "  avg = a.mean(axis)\n",
      "/Users/kristin.lomicka/anaconda3/lib/python3.7/site-packages/numpy/core/_methods.py:78: RuntimeWarning: invalid value encountered in true_divide\n",
      "  ret, rcount, out=ret, casting='unsafe', subok=False)\n"
     ]
    }
   ],
   "source": [
    "# Embed words\n",
    "V, indices = embed_words(docs)\n",
    "\n",
    "# Remove y's corresponding to NaN values in V\n",
    "# y = yelps.positive\n",
    "# for i in indices:\n",
    "#     del y[i]\n",
    "# len(y)"
   ]
  },
  {
   "cell_type": "code",
   "execution_count": 47,
   "metadata": {},
   "outputs": [
    {
     "name": "stdout",
     "output_type": "stream",
     "text": [
      "0.01\n"
     ]
    },
    {
     "name": "stderr",
     "output_type": "stream",
     "text": [
      "/Users/kristin.lomicka/anaconda3/lib/python3.7/site-packages/sklearn/linear_model/logistic.py:432: FutureWarning: Default solver will be changed to 'lbfgs' in 0.22. Specify a solver to silence this warning.\n",
      "  FutureWarning)\n",
      "/Users/kristin.lomicka/anaconda3/lib/python3.7/site-packages/sklearn/linear_model/logistic.py:432: FutureWarning: Default solver will be changed to 'lbfgs' in 0.22. Specify a solver to silence this warning.\n",
      "  FutureWarning)\n"
     ]
    },
    {
     "name": "stdout",
     "output_type": "stream",
     "text": [
      "0.02\n",
      "0.03\n"
     ]
    },
    {
     "name": "stderr",
     "output_type": "stream",
     "text": [
      "/Users/kristin.lomicka/anaconda3/lib/python3.7/site-packages/sklearn/linear_model/logistic.py:432: FutureWarning: Default solver will be changed to 'lbfgs' in 0.22. Specify a solver to silence this warning.\n",
      "  FutureWarning)\n",
      "/Users/kristin.lomicka/anaconda3/lib/python3.7/site-packages/sklearn/linear_model/logistic.py:432: FutureWarning: Default solver will be changed to 'lbfgs' in 0.22. Specify a solver to silence this warning.\n",
      "  FutureWarning)\n"
     ]
    },
    {
     "name": "stdout",
     "output_type": "stream",
     "text": [
      "0.04\n",
      "0.05\n"
     ]
    },
    {
     "name": "stderr",
     "output_type": "stream",
     "text": [
      "/Users/kristin.lomicka/anaconda3/lib/python3.7/site-packages/sklearn/linear_model/logistic.py:432: FutureWarning: Default solver will be changed to 'lbfgs' in 0.22. Specify a solver to silence this warning.\n",
      "  FutureWarning)\n"
     ]
    },
    {
     "name": "stdout",
     "output_type": "stream",
     "text": [
      "0.1\n"
     ]
    },
    {
     "name": "stderr",
     "output_type": "stream",
     "text": [
      "/Users/kristin.lomicka/anaconda3/lib/python3.7/site-packages/sklearn/linear_model/logistic.py:432: FutureWarning: Default solver will be changed to 'lbfgs' in 0.22. Specify a solver to silence this warning.\n",
      "  FutureWarning)\n",
      "/Users/kristin.lomicka/anaconda3/lib/python3.7/site-packages/sklearn/linear_model/logistic.py:469: FutureWarning: Default multi_class will be changed to 'auto' in 0.22. Specify the multi_class option to silence this warning.\n",
      "  \"this warning.\", FutureWarning)\n"
     ]
    }
   ],
   "source": [
    "# Define model\n",
    "model_LR = LogisticRegression()\n",
    "\n",
    "# Run model for different versions of train-test split\n",
    "split = (.01, .02, .03, .04, .05, .1)\n",
    "\n",
    "scores5 = []\n",
    "for s in split:\n",
    "    print(s)\n",
    "    V_train, V_test, y_train, y_test = train_test_split(V, y, train_size=s, random_state=100)\n",
    "    model_LR.fit(V_train, y_train)\n",
    "    y_pred = model_LR.predict(V_test)\n",
    "    score_LR = model_LR.score(V_test,y_test)\n",
    "    scores5.append(score_LR)"
   ]
  },
  {
   "cell_type": "code",
   "execution_count": 49,
   "metadata": {},
   "outputs": [
    {
     "data": {
      "text/plain": [
       "[0.9304848484848485,\n",
       " 0.9344897959183673,\n",
       " 0.9367628865979382,\n",
       " 0.9383958333333333,\n",
       " 0.9404210526315789,\n",
       " 0.9415777777777777]"
      ]
     },
     "execution_count": 49,
     "metadata": {},
     "output_type": "execute_result"
    }
   ],
   "source": [
    "scores5"
   ]
  },
  {
   "cell_type": "markdown",
   "metadata": {},
   "source": [
    "## Plot Results"
   ]
  },
  {
   "cell_type": "code",
   "execution_count": 51,
   "metadata": {},
   "outputs": [
    {
     "data": {
      "text/plain": [
       "Text(0.5, 0, '% training data')"
      ]
     },
     "execution_count": 51,
     "metadata": {},
     "output_type": "execute_result"
    },
    {
     "data": {
      "image/png": "[encoded data removed]",
      "text/plain": [
       "<Figure size 1440x720 with 1 Axes>"
      ]
     },
     "metadata": {
      "needs_background": "light"
     },
     "output_type": "display_data"
    }
   ],
   "source": [
    "plt.figure(figsize = (20,10))\n",
    "labels = ('full dataset', 'training data only', 'W2V-CBOW', 'W2V-Skipgram', 'W2V-CBOW-8windows' )\n",
    "plt.title(\"Score Comparison for Technique 1\", fontsize = 20)\n",
    "split = (.01, .02, .03, .04, .05, .1)\n",
    "plt.xticks(ticks = (0,1, 2, 3, 4, 5), labels = split)\n",
    "plt.plot(scores1)\n",
    "plt.plot(scores2)\n",
    "plt.plot(scores3)\n",
    "plt.plot(scores4)\n",
    "plt.plot(scores5)\n",
    "plt.legend(labels, fontsize = 15)\n",
    "plt.ylabel(\"Score\", fontsize = 15)\n",
    "plt.xlabel(\"% training data\", fontsize = 15)"
   ]
  },
  {
   "cell_type": "markdown",
   "metadata": {},
   "source": [
    "**Assessment:** The best performing model was Word2Vec - Skipgram model with the word embeddings trained on the full dataset. In general, the Word2Vec models outperformed the TfidfVectorizer models. In addition, models where the embeddings were created off the full dataset outperformed models using only the training data. "
   ]
  }
 ],
 "metadata": {
  "kernelspec": {
   "display_name": "Python 3",
   "language": "python",
   "name": "python3"
  },
  "language_info": {
   "codemirror_mode": {
    "name": "ipython",
    "version": 3
   },
   "file_extension": ".py",
   "mimetype": "text/x-python",
   "name": "python",
   "nbconvert_exporter": "python",
   "pygments_lexer": "ipython3",
   "version": "3.7.3"
  },
  "name": "assignment.ipynb",
  "toc": {
   "base_numbering": 1,
   "nav_menu": {},
   "number_sections": true,
   "sideBar": true,
   "skip_h1_title": false,
   "title_cell": "Table of Contents",
   "title_sidebar": "Contents",
   "toc_cell": false,
   "toc_position": {},
   "toc_section_display": true,
   "toc_window_display": true
  }
 },
 "nbformat": 4,
 "nbformat_minor": 2
}
